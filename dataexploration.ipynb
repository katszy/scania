{
 "cells": [
  {
   "cell_type": "code",
   "execution_count": 1,
   "id": "8be80060",
   "metadata": {
    "execution": {
     "iopub.execute_input": "2023-01-16T09:56:22.454268Z",
     "iopub.status.busy": "2023-01-16T09:56:22.453705Z",
     "iopub.status.idle": "2023-01-16T09:56:23.763828Z",
     "shell.execute_reply": "2023-01-16T09:56:23.762328Z"
    },
    "id": "jK8rqzbtVlGa",
    "papermill": {
     "duration": 1.323437,
     "end_time": "2023-01-16T09:56:23.767805",
     "exception": false,
     "start_time": "2023-01-16T09:56:22.444368",
     "status": "completed"
    },
    "tags": []
   },
   "outputs": [],
   "source": [
    "import pandas as pd\n",
    "from sklearn.model_selection import train_test_split\n",
    "from sklearn.metrics import accuracy_score, confusion_matrix, classification_report, precision_score, recall_score, f1_score\n",
    "import csv\n",
    "import seaborn as sns\n",
    "import pandas as pd\n",
    "import numpy as np\n",
    "import csv\n",
    "from sklearn.preprocessing import MinMaxScaler\n",
    "import matplotlib.pyplot as plt"
   ]
  },
  {
   "cell_type": "code",
   "execution_count": 2,
   "id": "cc7f8b6c",
   "metadata": {
    "execution": {
     "iopub.execute_input": "2023-01-16T09:56:23.778674Z",
     "iopub.status.busy": "2023-01-16T09:56:23.778166Z",
     "iopub.status.idle": "2023-01-16T09:56:26.151398Z",
     "shell.execute_reply": "2023-01-16T09:56:26.149555Z"
    },
    "id": "hoJvfUX2V3SB",
    "papermill": {
     "duration": 2.382417,
     "end_time": "2023-01-16T09:56:26.154761",
     "exception": false,
     "start_time": "2023-01-16T09:56:23.772344",
     "status": "completed"
    },
    "tags": []
   },
   "outputs": [],
   "source": [
    "x_train = pd.read_csv('/kaggle/input/ppcu-data-mining-and-machine-learning-2022/X_train.csv')\n",
    "x_test = pd.read_csv('/kaggle/input/ppcu-data-mining-and-machine-learning-2022/X_test.csv');\n",
    "y_train = pd.read_csv('/kaggle/input/ppcu-data-mining-and-machine-learning-2022/y_train.csv')"
   ]
  },
  {
   "cell_type": "code",
   "execution_count": 3,
   "id": "cfe90f48",
   "metadata": {
    "execution": {
     "iopub.execute_input": "2023-01-16T09:56:26.166656Z",
     "iopub.status.busy": "2023-01-16T09:56:26.165149Z",
     "iopub.status.idle": "2023-01-16T09:56:26.212753Z",
     "shell.execute_reply": "2023-01-16T09:56:26.211256Z"
    },
    "id": "F0i8oHIHV7_R",
    "outputId": "fc463e6d-2a73-44a8-f165-7181c4523b7e",
    "papermill": {
     "duration": 0.0581,
     "end_time": "2023-01-16T09:56:26.217298",
     "exception": false,
     "start_time": "2023-01-16T09:56:26.159198",
     "status": "completed"
    },
    "tags": []
   },
   "outputs": [
    {
     "name": "stdout",
     "output_type": "stream",
     "text": [
      "<class 'pandas.core.frame.DataFrame'>\n",
      "RangeIndex: 39900 entries, 0 to 39899\n",
      "Columns: 171 entries, Id to eg_000\n",
      "dtypes: float64(169), int64(2)\n",
      "memory usage: 52.1 MB\n",
      "<class 'pandas.core.frame.DataFrame'>\n",
      "RangeIndex: 17100 entries, 0 to 17099\n",
      "Columns: 171 entries, Id to eg_000\n",
      "dtypes: float64(169), int64(2)\n",
      "memory usage: 22.3 MB\n"
     ]
    }
   ],
   "source": [
    "x_train.info()\n",
    "x_test.info()"
   ]
  },
  {
   "cell_type": "code",
   "execution_count": 4,
   "id": "9e3a5eea",
   "metadata": {
    "execution": {
     "iopub.execute_input": "2023-01-16T09:56:26.229113Z",
     "iopub.status.busy": "2023-01-16T09:56:26.228624Z",
     "iopub.status.idle": "2023-01-16T09:56:26.270469Z",
     "shell.execute_reply": "2023-01-16T09:56:26.269219Z"
    },
    "id": "t3UMyVbzWCYP",
    "outputId": "5bacd1b6-711a-4dd5-a73a-9a96a68dbc91",
    "papermill": {
     "duration": 0.051896,
     "end_time": "2023-01-16T09:56:26.274258",
     "exception": false,
     "start_time": "2023-01-16T09:56:26.222362",
     "status": "completed"
    },
    "tags": []
   },
   "outputs": [
    {
     "data": {
      "text/html": [
       "<div>\n",
       "<style scoped>\n",
       "    .dataframe tbody tr th:only-of-type {\n",
       "        vertical-align: middle;\n",
       "    }\n",
       "\n",
       "    .dataframe tbody tr th {\n",
       "        vertical-align: top;\n",
       "    }\n",
       "\n",
       "    .dataframe thead th {\n",
       "        text-align: right;\n",
       "    }\n",
       "</style>\n",
       "<table border=\"1\" class=\"dataframe\">\n",
       "  <thead>\n",
       "    <tr style=\"text-align: right;\">\n",
       "      <th></th>\n",
       "      <th>Id</th>\n",
       "      <th>aa_000</th>\n",
       "      <th>ab_000</th>\n",
       "      <th>ac_000</th>\n",
       "      <th>ad_000</th>\n",
       "      <th>ae_000</th>\n",
       "      <th>af_000</th>\n",
       "      <th>ag_000</th>\n",
       "      <th>ag_001</th>\n",
       "      <th>ag_002</th>\n",
       "      <th>...</th>\n",
       "      <th>ee_002</th>\n",
       "      <th>ee_003</th>\n",
       "      <th>ee_004</th>\n",
       "      <th>ee_005</th>\n",
       "      <th>ee_006</th>\n",
       "      <th>ee_007</th>\n",
       "      <th>ee_008</th>\n",
       "      <th>ee_009</th>\n",
       "      <th>ef_000</th>\n",
       "      <th>eg_000</th>\n",
       "    </tr>\n",
       "  </thead>\n",
       "  <tbody>\n",
       "    <tr>\n",
       "      <th>0</th>\n",
       "      <td>0</td>\n",
       "      <td>21470</td>\n",
       "      <td>0.0</td>\n",
       "      <td>2.130706e+09</td>\n",
       "      <td>168.0</td>\n",
       "      <td>0.0</td>\n",
       "      <td>0.0</td>\n",
       "      <td>0.0</td>\n",
       "      <td>0.0</td>\n",
       "      <td>0.0</td>\n",
       "      <td>...</td>\n",
       "      <td>187028.0</td>\n",
       "      <td>109090.0</td>\n",
       "      <td>228040.0</td>\n",
       "      <td>89664.0</td>\n",
       "      <td>296964.0</td>\n",
       "      <td>78936.0</td>\n",
       "      <td>58.0</td>\n",
       "      <td>0.0</td>\n",
       "      <td>0.0</td>\n",
       "      <td>0.0</td>\n",
       "    </tr>\n",
       "    <tr>\n",
       "      <th>1</th>\n",
       "      <td>1</td>\n",
       "      <td>40856</td>\n",
       "      <td>NaN</td>\n",
       "      <td>5.540000e+02</td>\n",
       "      <td>0.0</td>\n",
       "      <td>0.0</td>\n",
       "      <td>0.0</td>\n",
       "      <td>0.0</td>\n",
       "      <td>0.0</td>\n",
       "      <td>0.0</td>\n",
       "      <td>...</td>\n",
       "      <td>526386.0</td>\n",
       "      <td>277000.0</td>\n",
       "      <td>612436.0</td>\n",
       "      <td>441664.0</td>\n",
       "      <td>84968.0</td>\n",
       "      <td>2204.0</td>\n",
       "      <td>78.0</td>\n",
       "      <td>0.0</td>\n",
       "      <td>0.0</td>\n",
       "      <td>0.0</td>\n",
       "    </tr>\n",
       "    <tr>\n",
       "      <th>2</th>\n",
       "      <td>2</td>\n",
       "      <td>28</td>\n",
       "      <td>NaN</td>\n",
       "      <td>2.130706e+09</td>\n",
       "      <td>20.0</td>\n",
       "      <td>0.0</td>\n",
       "      <td>0.0</td>\n",
       "      <td>0.0</td>\n",
       "      <td>0.0</td>\n",
       "      <td>0.0</td>\n",
       "      <td>...</td>\n",
       "      <td>406.0</td>\n",
       "      <td>80.0</td>\n",
       "      <td>78.0</td>\n",
       "      <td>40.0</td>\n",
       "      <td>0.0</td>\n",
       "      <td>0.0</td>\n",
       "      <td>0.0</td>\n",
       "      <td>0.0</td>\n",
       "      <td>0.0</td>\n",
       "      <td>0.0</td>\n",
       "    </tr>\n",
       "    <tr>\n",
       "      <th>3</th>\n",
       "      <td>3</td>\n",
       "      <td>38682</td>\n",
       "      <td>NaN</td>\n",
       "      <td>3.440000e+02</td>\n",
       "      <td>326.0</td>\n",
       "      <td>0.0</td>\n",
       "      <td>0.0</td>\n",
       "      <td>0.0</td>\n",
       "      <td>0.0</td>\n",
       "      <td>0.0</td>\n",
       "      <td>...</td>\n",
       "      <td>244622.0</td>\n",
       "      <td>116794.0</td>\n",
       "      <td>267896.0</td>\n",
       "      <td>307242.0</td>\n",
       "      <td>248998.0</td>\n",
       "      <td>164098.0</td>\n",
       "      <td>300820.0</td>\n",
       "      <td>11238.0</td>\n",
       "      <td>0.0</td>\n",
       "      <td>0.0</td>\n",
       "    </tr>\n",
       "    <tr>\n",
       "      <th>4</th>\n",
       "      <td>4</td>\n",
       "      <td>62218</td>\n",
       "      <td>NaN</td>\n",
       "      <td>0.000000e+00</td>\n",
       "      <td>NaN</td>\n",
       "      <td>0.0</td>\n",
       "      <td>0.0</td>\n",
       "      <td>0.0</td>\n",
       "      <td>0.0</td>\n",
       "      <td>0.0</td>\n",
       "      <td>...</td>\n",
       "      <td>499450.0</td>\n",
       "      <td>242448.0</td>\n",
       "      <td>458620.0</td>\n",
       "      <td>422742.0</td>\n",
       "      <td>390678.0</td>\n",
       "      <td>287052.0</td>\n",
       "      <td>427584.0</td>\n",
       "      <td>10146.0</td>\n",
       "      <td>0.0</td>\n",
       "      <td>0.0</td>\n",
       "    </tr>\n",
       "  </tbody>\n",
       "</table>\n",
       "<p>5 rows × 171 columns</p>\n",
       "</div>"
      ],
      "text/plain": [
       "   Id  aa_000  ab_000        ac_000  ad_000  ae_000  af_000  ag_000  ag_001  \\\n",
       "0   0   21470     0.0  2.130706e+09   168.0     0.0     0.0     0.0     0.0   \n",
       "1   1   40856     NaN  5.540000e+02     0.0     0.0     0.0     0.0     0.0   \n",
       "2   2      28     NaN  2.130706e+09    20.0     0.0     0.0     0.0     0.0   \n",
       "3   3   38682     NaN  3.440000e+02   326.0     0.0     0.0     0.0     0.0   \n",
       "4   4   62218     NaN  0.000000e+00     NaN     0.0     0.0     0.0     0.0   \n",
       "\n",
       "   ag_002  ...    ee_002    ee_003    ee_004    ee_005    ee_006    ee_007  \\\n",
       "0     0.0  ...  187028.0  109090.0  228040.0   89664.0  296964.0   78936.0   \n",
       "1     0.0  ...  526386.0  277000.0  612436.0  441664.0   84968.0    2204.0   \n",
       "2     0.0  ...     406.0      80.0      78.0      40.0       0.0       0.0   \n",
       "3     0.0  ...  244622.0  116794.0  267896.0  307242.0  248998.0  164098.0   \n",
       "4     0.0  ...  499450.0  242448.0  458620.0  422742.0  390678.0  287052.0   \n",
       "\n",
       "     ee_008   ee_009  ef_000  eg_000  \n",
       "0      58.0      0.0     0.0     0.0  \n",
       "1      78.0      0.0     0.0     0.0  \n",
       "2       0.0      0.0     0.0     0.0  \n",
       "3  300820.0  11238.0     0.0     0.0  \n",
       "4  427584.0  10146.0     0.0     0.0  \n",
       "\n",
       "[5 rows x 171 columns]"
      ]
     },
     "execution_count": 4,
     "metadata": {},
     "output_type": "execute_result"
    }
   ],
   "source": [
    "x_train.head()"
   ]
  },
  {
   "cell_type": "code",
   "execution_count": 5,
   "id": "59af0755",
   "metadata": {
    "execution": {
     "iopub.execute_input": "2023-01-16T09:56:26.285924Z",
     "iopub.status.busy": "2023-01-16T09:56:26.285453Z",
     "iopub.status.idle": "2023-01-16T09:56:27.084509Z",
     "shell.execute_reply": "2023-01-16T09:56:27.083214Z"
    },
    "id": "knkuuMMZWEav",
    "outputId": "684e54e9-58e3-4962-86b7-7fd1e471328f",
    "papermill": {
     "duration": 0.808256,
     "end_time": "2023-01-16T09:56:27.087355",
     "exception": false,
     "start_time": "2023-01-16T09:56:26.279099",
     "status": "completed"
    },
    "tags": []
   },
   "outputs": [
    {
     "data": {
      "text/html": [
       "<div>\n",
       "<style scoped>\n",
       "    .dataframe tbody tr th:only-of-type {\n",
       "        vertical-align: middle;\n",
       "    }\n",
       "\n",
       "    .dataframe tbody tr th {\n",
       "        vertical-align: top;\n",
       "    }\n",
       "\n",
       "    .dataframe thead th {\n",
       "        text-align: right;\n",
       "    }\n",
       "</style>\n",
       "<table border=\"1\" class=\"dataframe\">\n",
       "  <thead>\n",
       "    <tr style=\"text-align: right;\">\n",
       "      <th></th>\n",
       "      <th>Id</th>\n",
       "      <th>aa_000</th>\n",
       "      <th>ab_000</th>\n",
       "      <th>ac_000</th>\n",
       "      <th>ad_000</th>\n",
       "      <th>ae_000</th>\n",
       "      <th>af_000</th>\n",
       "      <th>ag_000</th>\n",
       "      <th>ag_001</th>\n",
       "      <th>ag_002</th>\n",
       "      <th>...</th>\n",
       "      <th>ee_002</th>\n",
       "      <th>ee_003</th>\n",
       "      <th>ee_004</th>\n",
       "      <th>ee_005</th>\n",
       "      <th>ee_006</th>\n",
       "      <th>ee_007</th>\n",
       "      <th>ee_008</th>\n",
       "      <th>ee_009</th>\n",
       "      <th>ef_000</th>\n",
       "      <th>eg_000</th>\n",
       "    </tr>\n",
       "  </thead>\n",
       "  <tbody>\n",
       "    <tr>\n",
       "      <th>count</th>\n",
       "      <td>39900.000000</td>\n",
       "      <td>3.990000e+04</td>\n",
       "      <td>9121.000000</td>\n",
       "      <td>3.765900e+04</td>\n",
       "      <td>2.993400e+04</td>\n",
       "      <td>38240.000000</td>\n",
       "      <td>38240.000000</td>\n",
       "      <td>3.943400e+04</td>\n",
       "      <td>3.943400e+04</td>\n",
       "      <td>3.943400e+04</td>\n",
       "      <td>...</td>\n",
       "      <td>3.943200e+04</td>\n",
       "      <td>3.943200e+04</td>\n",
       "      <td>3.943200e+04</td>\n",
       "      <td>3.943200e+04</td>\n",
       "      <td>3.943200e+04</td>\n",
       "      <td>3.943200e+04</td>\n",
       "      <td>3.943200e+04</td>\n",
       "      <td>3.943200e+04</td>\n",
       "      <td>38087.000000</td>\n",
       "      <td>38088.000000</td>\n",
       "    </tr>\n",
       "    <tr>\n",
       "      <th>mean</th>\n",
       "      <td>19949.500000</td>\n",
       "      <td>6.094339e+04</td>\n",
       "      <td>0.728210</td>\n",
       "      <td>3.536753e+08</td>\n",
       "      <td>2.872309e+05</td>\n",
       "      <td>6.427877</td>\n",
       "      <td>10.552354</td>\n",
       "      <td>2.017626e+02</td>\n",
       "      <td>1.096192e+03</td>\n",
       "      <td>9.547083e+03</td>\n",
       "      <td>...</td>\n",
       "      <td>4.486738e+05</td>\n",
       "      <td>2.129917e+05</td>\n",
       "      <td>4.489956e+05</td>\n",
       "      <td>4.013561e+05</td>\n",
       "      <td>3.390282e+05</td>\n",
       "      <td>3.439853e+05</td>\n",
       "      <td>1.375559e+05</td>\n",
       "      <td>8.265914e+03</td>\n",
       "      <td>0.074514</td>\n",
       "      <td>0.236137</td>\n",
       "    </tr>\n",
       "    <tr>\n",
       "      <th>std</th>\n",
       "      <td>11518.282207</td>\n",
       "      <td>2.598214e+05</td>\n",
       "      <td>3.107561</td>\n",
       "      <td>7.927850e+08</td>\n",
       "      <td>4.961607e+07</td>\n",
       "      <td>112.420166</td>\n",
       "      <td>177.143548</td>\n",
       "      <td>1.823295e+04</td>\n",
       "      <td>3.272456e+04</td>\n",
       "      <td>1.563888e+05</td>\n",
       "      <td>...</td>\n",
       "      <td>1.121988e+06</td>\n",
       "      <td>5.316487e+05</td>\n",
       "      <td>1.129791e+06</td>\n",
       "      <td>1.130969e+06</td>\n",
       "      <td>1.102586e+06</td>\n",
       "      <td>1.626701e+06</td>\n",
       "      <td>4.350107e+05</td>\n",
       "      <td>4.968480e+04</td>\n",
       "      <td>3.610742</td>\n",
       "      <td>12.155503</td>\n",
       "    </tr>\n",
       "    <tr>\n",
       "      <th>min</th>\n",
       "      <td>0.000000</td>\n",
       "      <td>0.000000e+00</td>\n",
       "      <td>0.000000</td>\n",
       "      <td>0.000000e+00</td>\n",
       "      <td>0.000000e+00</td>\n",
       "      <td>0.000000</td>\n",
       "      <td>0.000000</td>\n",
       "      <td>0.000000e+00</td>\n",
       "      <td>0.000000e+00</td>\n",
       "      <td>0.000000e+00</td>\n",
       "      <td>...</td>\n",
       "      <td>0.000000e+00</td>\n",
       "      <td>0.000000e+00</td>\n",
       "      <td>0.000000e+00</td>\n",
       "      <td>0.000000e+00</td>\n",
       "      <td>0.000000e+00</td>\n",
       "      <td>0.000000e+00</td>\n",
       "      <td>0.000000e+00</td>\n",
       "      <td>0.000000e+00</td>\n",
       "      <td>0.000000</td>\n",
       "      <td>0.000000</td>\n",
       "    </tr>\n",
       "    <tr>\n",
       "      <th>25%</th>\n",
       "      <td>9974.750000</td>\n",
       "      <td>8.680000e+02</td>\n",
       "      <td>0.000000</td>\n",
       "      <td>1.600000e+01</td>\n",
       "      <td>2.400000e+01</td>\n",
       "      <td>0.000000</td>\n",
       "      <td>0.000000</td>\n",
       "      <td>0.000000e+00</td>\n",
       "      <td>0.000000e+00</td>\n",
       "      <td>0.000000e+00</td>\n",
       "      <td>...</td>\n",
       "      <td>2.976000e+03</td>\n",
       "      <td>1.186000e+03</td>\n",
       "      <td>2.740000e+03</td>\n",
       "      <td>3.660000e+03</td>\n",
       "      <td>5.240000e+02</td>\n",
       "      <td>1.160000e+02</td>\n",
       "      <td>0.000000e+00</td>\n",
       "      <td>0.000000e+00</td>\n",
       "      <td>0.000000</td>\n",
       "      <td>0.000000</td>\n",
       "    </tr>\n",
       "    <tr>\n",
       "      <th>50%</th>\n",
       "      <td>19949.500000</td>\n",
       "      <td>3.082300e+04</td>\n",
       "      <td>0.000000</td>\n",
       "      <td>1.520000e+02</td>\n",
       "      <td>1.260000e+02</td>\n",
       "      <td>0.000000</td>\n",
       "      <td>0.000000</td>\n",
       "      <td>0.000000e+00</td>\n",
       "      <td>0.000000e+00</td>\n",
       "      <td>0.000000e+00</td>\n",
       "      <td>...</td>\n",
       "      <td>2.351960e+05</td>\n",
       "      <td>1.121640e+05</td>\n",
       "      <td>2.236870e+05</td>\n",
       "      <td>1.907450e+05</td>\n",
       "      <td>9.458700e+04</td>\n",
       "      <td>4.204100e+04</td>\n",
       "      <td>3.992000e+03</td>\n",
       "      <td>0.000000e+00</td>\n",
       "      <td>0.000000</td>\n",
       "      <td>0.000000</td>\n",
       "    </tr>\n",
       "    <tr>\n",
       "      <th>75%</th>\n",
       "      <td>29924.250000</td>\n",
       "      <td>4.889650e+04</td>\n",
       "      <td>0.000000</td>\n",
       "      <td>9.700000e+02</td>\n",
       "      <td>4.340000e+02</td>\n",
       "      <td>0.000000</td>\n",
       "      <td>0.000000</td>\n",
       "      <td>0.000000e+00</td>\n",
       "      <td>0.000000e+00</td>\n",
       "      <td>0.000000e+00</td>\n",
       "      <td>...</td>\n",
       "      <td>4.394680e+05</td>\n",
       "      <td>2.175255e+05</td>\n",
       "      <td>4.667520e+05</td>\n",
       "      <td>4.037860e+05</td>\n",
       "      <td>2.769340e+05</td>\n",
       "      <td>1.682435e+05</td>\n",
       "      <td>1.397730e+05</td>\n",
       "      <td>1.998500e+03</td>\n",
       "      <td>0.000000</td>\n",
       "      <td>0.000000</td>\n",
       "    </tr>\n",
       "    <tr>\n",
       "      <th>max</th>\n",
       "      <td>39899.000000</td>\n",
       "      <td>4.294967e+07</td>\n",
       "      <td>134.000000</td>\n",
       "      <td>2.130707e+09</td>\n",
       "      <td>8.584298e+09</td>\n",
       "      <td>11044.000000</td>\n",
       "      <td>14186.000000</td>\n",
       "      <td>3.376892e+06</td>\n",
       "      <td>3.708310e+06</td>\n",
       "      <td>1.004568e+07</td>\n",
       "      <td>...</td>\n",
       "      <td>3.123272e+07</td>\n",
       "      <td>1.454922e+07</td>\n",
       "      <td>2.454544e+07</td>\n",
       "      <td>5.743524e+07</td>\n",
       "      <td>3.160781e+07</td>\n",
       "      <td>3.755240e+07</td>\n",
       "      <td>1.718575e+07</td>\n",
       "      <td>4.570398e+06</td>\n",
       "      <td>350.000000</td>\n",
       "      <td>1720.000000</td>\n",
       "    </tr>\n",
       "  </tbody>\n",
       "</table>\n",
       "<p>8 rows × 171 columns</p>\n",
       "</div>"
      ],
      "text/plain": [
       "                 Id        aa_000       ab_000        ac_000        ad_000  \\\n",
       "count  39900.000000  3.990000e+04  9121.000000  3.765900e+04  2.993400e+04   \n",
       "mean   19949.500000  6.094339e+04     0.728210  3.536753e+08  2.872309e+05   \n",
       "std    11518.282207  2.598214e+05     3.107561  7.927850e+08  4.961607e+07   \n",
       "min        0.000000  0.000000e+00     0.000000  0.000000e+00  0.000000e+00   \n",
       "25%     9974.750000  8.680000e+02     0.000000  1.600000e+01  2.400000e+01   \n",
       "50%    19949.500000  3.082300e+04     0.000000  1.520000e+02  1.260000e+02   \n",
       "75%    29924.250000  4.889650e+04     0.000000  9.700000e+02  4.340000e+02   \n",
       "max    39899.000000  4.294967e+07   134.000000  2.130707e+09  8.584298e+09   \n",
       "\n",
       "             ae_000        af_000        ag_000        ag_001        ag_002  \\\n",
       "count  38240.000000  38240.000000  3.943400e+04  3.943400e+04  3.943400e+04   \n",
       "mean       6.427877     10.552354  2.017626e+02  1.096192e+03  9.547083e+03   \n",
       "std      112.420166    177.143548  1.823295e+04  3.272456e+04  1.563888e+05   \n",
       "min        0.000000      0.000000  0.000000e+00  0.000000e+00  0.000000e+00   \n",
       "25%        0.000000      0.000000  0.000000e+00  0.000000e+00  0.000000e+00   \n",
       "50%        0.000000      0.000000  0.000000e+00  0.000000e+00  0.000000e+00   \n",
       "75%        0.000000      0.000000  0.000000e+00  0.000000e+00  0.000000e+00   \n",
       "max    11044.000000  14186.000000  3.376892e+06  3.708310e+06  1.004568e+07   \n",
       "\n",
       "       ...        ee_002        ee_003        ee_004        ee_005  \\\n",
       "count  ...  3.943200e+04  3.943200e+04  3.943200e+04  3.943200e+04   \n",
       "mean   ...  4.486738e+05  2.129917e+05  4.489956e+05  4.013561e+05   \n",
       "std    ...  1.121988e+06  5.316487e+05  1.129791e+06  1.130969e+06   \n",
       "min    ...  0.000000e+00  0.000000e+00  0.000000e+00  0.000000e+00   \n",
       "25%    ...  2.976000e+03  1.186000e+03  2.740000e+03  3.660000e+03   \n",
       "50%    ...  2.351960e+05  1.121640e+05  2.236870e+05  1.907450e+05   \n",
       "75%    ...  4.394680e+05  2.175255e+05  4.667520e+05  4.037860e+05   \n",
       "max    ...  3.123272e+07  1.454922e+07  2.454544e+07  5.743524e+07   \n",
       "\n",
       "             ee_006        ee_007        ee_008        ee_009        ef_000  \\\n",
       "count  3.943200e+04  3.943200e+04  3.943200e+04  3.943200e+04  38087.000000   \n",
       "mean   3.390282e+05  3.439853e+05  1.375559e+05  8.265914e+03      0.074514   \n",
       "std    1.102586e+06  1.626701e+06  4.350107e+05  4.968480e+04      3.610742   \n",
       "min    0.000000e+00  0.000000e+00  0.000000e+00  0.000000e+00      0.000000   \n",
       "25%    5.240000e+02  1.160000e+02  0.000000e+00  0.000000e+00      0.000000   \n",
       "50%    9.458700e+04  4.204100e+04  3.992000e+03  0.000000e+00      0.000000   \n",
       "75%    2.769340e+05  1.682435e+05  1.397730e+05  1.998500e+03      0.000000   \n",
       "max    3.160781e+07  3.755240e+07  1.718575e+07  4.570398e+06    350.000000   \n",
       "\n",
       "             eg_000  \n",
       "count  38088.000000  \n",
       "mean       0.236137  \n",
       "std       12.155503  \n",
       "min        0.000000  \n",
       "25%        0.000000  \n",
       "50%        0.000000  \n",
       "75%        0.000000  \n",
       "max     1720.000000  \n",
       "\n",
       "[8 rows x 171 columns]"
      ]
     },
     "execution_count": 5,
     "metadata": {},
     "output_type": "execute_result"
    }
   ],
   "source": [
    "x_train.describe()"
   ]
  },
  {
   "cell_type": "code",
   "execution_count": 6,
   "id": "3446a43f",
   "metadata": {
    "execution": {
     "iopub.execute_input": "2023-01-16T09:56:27.101084Z",
     "iopub.status.busy": "2023-01-16T09:56:27.099857Z",
     "iopub.status.idle": "2023-01-16T09:56:27.110515Z",
     "shell.execute_reply": "2023-01-16T09:56:27.108741Z"
    },
    "id": "rvGuyrmOXIV0",
    "outputId": "efe5746e-d333-4549-9db0-87db394fd33b",
    "papermill": {
     "duration": 0.020725,
     "end_time": "2023-01-16T09:56:27.113770",
     "exception": false,
     "start_time": "2023-01-16T09:56:27.093045",
     "status": "completed"
    },
    "tags": []
   },
   "outputs": [
    {
     "name": "stdout",
     "output_type": "stream",
     "text": [
      "Data type of each column of Dataframe :\n",
      "Id          int64\n",
      "aa_000      int64\n",
      "ab_000    float64\n",
      "ac_000    float64\n",
      "ad_000    float64\n",
      "           ...   \n",
      "ee_007    float64\n",
      "ee_008    float64\n",
      "ee_009    float64\n",
      "ef_000    float64\n",
      "eg_000    float64\n",
      "Length: 171, dtype: object\n"
     ]
    }
   ],
   "source": [
    "dataTypeSeries = x_train.dtypes\n",
    "print('Data type of each column of Dataframe :')\n",
    "print(dataTypeSeries)"
   ]
  },
  {
   "cell_type": "code",
   "execution_count": 7,
   "id": "e4b0dc31",
   "metadata": {
    "execution": {
     "iopub.execute_input": "2023-01-16T09:56:27.126537Z",
     "iopub.status.busy": "2023-01-16T09:56:27.126021Z",
     "iopub.status.idle": "2023-01-16T09:56:27.152552Z",
     "shell.execute_reply": "2023-01-16T09:56:27.151244Z"
    },
    "id": "p5WyFYmtasJv",
    "outputId": "bade8b41-7de7-4b24-e6a0-58a4ff29f471",
    "papermill": {
     "duration": 0.036337,
     "end_time": "2023-01-16T09:56:27.155534",
     "exception": false,
     "start_time": "2023-01-16T09:56:27.119197",
     "status": "completed"
    },
    "tags": []
   },
   "outputs": [
    {
     "data": {
      "text/plain": [
       "br_000    32723\n",
       "bq_000    32367\n",
       "bp_000    31718\n",
       "ab_000    30779\n",
       "cr_000    30779\n",
       "          ...  \n",
       "cj_000      226\n",
       "ci_000      226\n",
       "bt_000       94\n",
       "aa_000        0\n",
       "Id            0\n",
       "Length: 171, dtype: int64"
      ]
     },
     "execution_count": 7,
     "metadata": {},
     "output_type": "execute_result"
    }
   ],
   "source": [
    "total_miss_values=x_train.isna().sum().sort_values(ascending=False)\n",
    "total_miss_values"
   ]
  },
  {
   "cell_type": "code",
   "execution_count": 8,
   "id": "c4d677b7",
   "metadata": {
    "execution": {
     "iopub.execute_input": "2023-01-16T09:56:27.168395Z",
     "iopub.status.busy": "2023-01-16T09:56:27.167908Z",
     "iopub.status.idle": "2023-01-16T09:56:27.584454Z",
     "shell.execute_reply": "2023-01-16T09:56:27.583199Z"
    },
    "papermill": {
     "duration": 0.426335,
     "end_time": "2023-01-16T09:56:27.587193",
     "exception": false,
     "start_time": "2023-01-16T09:56:27.160858",
     "status": "completed"
    },
    "tags": []
   },
   "outputs": [
    {
     "data": {
      "text/plain": [
       "False"
      ]
     },
     "execution_count": 8,
     "metadata": {},
     "output_type": "execute_result"
    }
   ],
   "source": [
    "x_train.duplicated().any()"
   ]
  },
  {
   "cell_type": "code",
   "execution_count": 9,
   "id": "3d9b2766",
   "metadata": {
    "execution": {
     "iopub.execute_input": "2023-01-16T09:56:27.600628Z",
     "iopub.status.busy": "2023-01-16T09:56:27.599792Z",
     "iopub.status.idle": "2023-01-16T09:56:29.707867Z",
     "shell.execute_reply": "2023-01-16T09:56:29.706770Z"
    },
    "id": "ds1U-xfnZNNd",
    "outputId": "7c4c4a05-8ea1-463c-9d5c-51715d102789",
    "papermill": {
     "duration": 2.118452,
     "end_time": "2023-01-16T09:56:29.710953",
     "exception": false,
     "start_time": "2023-01-16T09:56:27.592501",
     "status": "completed"
    },
    "tags": []
   },
   "outputs": [
    {
     "data": {
      "text/plain": [
       "Text(0.5, 1.0, 'Null ratio')"
      ]
     },
     "execution_count": 9,
     "metadata": {},
     "output_type": "execute_result"
    },
    {
     "data": {
      "image/png": "[encoded data removed]",
      "text/plain": [
       "<Figure size 1080x504 with 1 Axes>"
      ]
     },
     "metadata": {
      "needs_background": "light"
     },
     "output_type": "display_data"
    }
   ],
   "source": [
    "df = x_train\n",
    "percent_missing = df.isnull().sum() * 100 / len(df)\n",
    "missing_value_df = pd.DataFrame({'column_name': df.columns,\n",
    "                                 'percent_missing': percent_missing})\n",
    "\n",
    "missing_value_df.sort_values('percent_missing', inplace=True)\n",
    "\n",
    "percent_missing = df.isnull().sum() * 100 / len(df)\n",
    "\n",
    "plt.figure(figsize=(15,7))\n",
    "plt.plot(percent_missing)\n",
    "plt.xlabel(\"variables\")\n",
    "plt.ylabel(\"ratio(%)\")\n",
    "plt.xticks(rotation=90, fontsize=10)\n",
    "plt.title(\"Null ratio\")"
   ]
  },
  {
   "cell_type": "code",
   "execution_count": 10,
   "id": "2fe38437",
   "metadata": {
    "execution": {
     "iopub.execute_input": "2023-01-16T09:56:29.726337Z",
     "iopub.status.busy": "2023-01-16T09:56:29.725901Z",
     "iopub.status.idle": "2023-01-16T09:56:33.297784Z",
     "shell.execute_reply": "2023-01-16T09:56:33.296735Z"
    },
    "id": "DQsAXK_AbBBg",
    "outputId": "34d888c7-dc3a-46ee-c078-65a8ae20cf88",
    "papermill": {
     "duration": 3.583648,
     "end_time": "2023-01-16T09:56:33.301400",
     "exception": false,
     "start_time": "2023-01-16T09:56:29.717752",
     "status": "completed"
    },
    "tags": []
   },
   "outputs": [
    {
     "data": {
      "image/png": "[encoded data removed]",
      "text/plain": [
       "<Figure size 288x288 with 1 Axes>"
      ]
     },
     "metadata": {
      "needs_background": "light"
     },
     "output_type": "display_data"
    }
   ],
   "source": [
    "plt.matshow(x_train.corr())\n",
    "plt.show()"
   ]
  },
  {
   "cell_type": "code",
   "execution_count": 11,
   "id": "6d6cc857",
   "metadata": {
    "execution": {
     "iopub.execute_input": "2023-01-16T09:56:33.320607Z",
     "iopub.status.busy": "2023-01-16T09:56:33.320092Z",
     "iopub.status.idle": "2023-01-16T09:56:33.560236Z",
     "shell.execute_reply": "2023-01-16T09:56:33.558965Z"
    },
    "id": "K5_98bKacnxb",
    "outputId": "74ef60db-71fd-440b-e473-ef553d1ded8a",
    "papermill": {
     "duration": 0.25305,
     "end_time": "2023-01-16T09:56:33.563091",
     "exception": false,
     "start_time": "2023-01-16T09:56:33.310041",
     "status": "completed"
    },
    "tags": []
   },
   "outputs": [
    {
     "name": "stderr",
     "output_type": "stream",
     "text": [
      "/opt/conda/lib/python3.7/site-packages/seaborn/_decorators.py:43: FutureWarning: Pass the following variable as a keyword arg: x. From version 0.12, the only valid positional argument will be `data`, and passing other arguments without an explicit keyword will result in an error or misinterpretation.\n",
      "  FutureWarning\n"
     ]
    },
    {
     "data": {
      "text/plain": [
       "Text(0.5, 1.0, 'Class values - neg:39178 / pos:722')"
      ]
     },
     "execution_count": 11,
     "metadata": {},
     "output_type": "execute_result"
    },
    {
     "data": {
      "image/png": "[encoded data removed]",
      "text/plain": [
       "<Figure size 720x432 with 1 Axes>"
      ]
     },
     "metadata": {
      "needs_background": "light"
     },
     "output_type": "display_data"
    }
   ],
   "source": [
    "plt.figure(figsize=(10,6))\n",
    "sns.countplot(y_train[\"Expected\"])\n",
    "plt.title(\"Class values - neg:{0} / pos:{1}\".format(y_train[\"Expected\"].value_counts()[0], y_train[\"Expected\"].value_counts()[1]))"
   ]
  },
  {
   "cell_type": "markdown",
   "id": "ff8366d9",
   "metadata": {
    "papermill": {
     "duration": 0.008011,
     "end_time": "2023-01-16T09:56:33.579483",
     "exception": false,
     "start_time": "2023-01-16T09:56:33.571472",
     "status": "completed"
    },
    "tags": []
   },
   "source": [
    "checking for std=0 columns"
   ]
  },
  {
   "cell_type": "code",
   "execution_count": 12,
   "id": "597bf437",
   "metadata": {
    "execution": {
     "iopub.execute_input": "2023-01-16T09:56:33.598946Z",
     "iopub.status.busy": "2023-01-16T09:56:33.598433Z",
     "iopub.status.idle": "2023-01-16T09:56:33.709172Z",
     "shell.execute_reply": "2023-01-16T09:56:33.707234Z"
    },
    "papermill": {
     "duration": 0.124931,
     "end_time": "2023-01-16T09:56:33.713089",
     "exception": false,
     "start_time": "2023-01-16T09:56:33.588158",
     "status": "completed"
    },
    "tags": []
   },
   "outputs": [
    {
     "name": "stdout",
     "output_type": "stream",
     "text": [
      "cd_000\n"
     ]
    }
   ],
   "source": [
    "column_to_remove = ''\n",
    "for i in x_train:\n",
    "    if x_train[i].std() == 0:\n",
    "        #x_train = x_train.drop([i],axis=1) #dropping this column degrades performance?!\n",
    "        print(i)\n",
    "        column_to_remove = i"
   ]
  }
 ],
 "metadata": {
  "kernelspec": {
   "display_name": "Python 3",
   "language": "python",
   "name": "python3"
  },
  "language_info": {
   "codemirror_mode": {
    "name": "ipython",
    "version": 3
   },
   "file_extension": ".py",
   "mimetype": "text/x-python",
   "name": "python",
   "nbconvert_exporter": "python",
   "pygments_lexer": "ipython3",
   "version": "3.7.12"
  },
  "papermill": {
   "default_parameters": {},
   "duration": 21.515216,
   "end_time": "2023-01-16T09:56:34.645679",
   "environment_variables": {},
   "exception": null,
   "input_path": "__notebook__.ipynb",
   "output_path": "__notebook__.ipynb",
   "parameters": {},
   "start_time": "2023-01-16T09:56:13.130463",
   "version": "2.3.4"
  }
 },
 "nbformat": 4,
 "nbformat_minor": 5
}
